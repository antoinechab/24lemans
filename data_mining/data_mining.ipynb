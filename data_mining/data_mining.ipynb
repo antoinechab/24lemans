{
 "cells": [
  {
   "cell_type": "markdown",
   "id": "1c55f0cc",
   "metadata": {},
   "source": [
    "# Preprocessing Workflow"
   ]
  },
  {
   "cell_type": "code",
   "execution_count": 139,
   "id": "e87ce6c0",
   "metadata": {},
   "outputs": [],
   "source": [
    "import pandas as pd\n",
    "import seaborn as sns\n",
    "import matplotlib.pyplot as plt\n",
    "import numpy as np\n",
    "from sklearn.preprocessing import OneHotEncoder\n",
    "import datetime"
   ]
  },
  {
   "cell_type": "markdown",
   "id": "1859cf82",
   "metadata": {},
   "source": [
    "Pour commencer je récupère les données construite avec mon scraper"
   ]
  },
  {
   "cell_type": "code",
   "execution_count": 268,
   "id": "c29db237",
   "metadata": {},
   "outputs": [],
   "source": [
    "data = pd.read_csv(\"./../datas/dataset_clean/lemans24.csv\")"
   ]
  },
  {
   "cell_type": "code",
   "execution_count": 167,
   "id": "1afb28c1",
   "metadata": {},
   "outputs": [
    {
     "data": {
      "text/html": [
       "<div>\n",
       "<style scoped>\n",
       "    .dataframe tbody tr th:only-of-type {\n",
       "        vertical-align: middle;\n",
       "    }\n",
       "\n",
       "    .dataframe tbody tr th {\n",
       "        vertical-align: top;\n",
       "    }\n",
       "\n",
       "    .dataframe thead th {\n",
       "        text-align: right;\n",
       "    }\n",
       "</style>\n",
       "<table border=\"1\" class=\"dataframe\">\n",
       "  <thead>\n",
       "    <tr style=\"text-align: right;\">\n",
       "      <th></th>\n",
       "      <th>car</th>\n",
       "      <th>rank</th>\n",
       "      <th>brand</th>\n",
       "      <th>engine</th>\n",
       "      <th>tires_brand</th>\n",
       "      <th>category</th>\n",
       "      <th>race_year</th>\n",
       "      <th>try_rank</th>\n",
       "      <th>try_speed</th>\n",
       "      <th>race_rank</th>\n",
       "      <th>race_turn</th>\n",
       "      <th>race_mean</th>\n",
       "      <th>race_best_turn</th>\n",
       "      <th>race_max_speed</th>\n",
       "      <th>pilot_1</th>\n",
       "      <th>pilot_2</th>\n",
       "      <th>pilot_3</th>\n",
       "    </tr>\n",
       "  </thead>\n",
       "  <tbody>\n",
       "    <tr>\n",
       "      <th>0</th>\n",
       "      <td>Chenard et Walcker Sport</td>\n",
       "      <td>1</td>\n",
       "      <td>NaN</td>\n",
       "      <td>Moteur Chenard et Walker L4 2978cc</td>\n",
       "      <td>Michelin</td>\n",
       "      <td>2001 a 3000</td>\n",
       "      <td>1923</td>\n",
       "      <td>pas de chrono</td>\n",
       "      <td>NaN</td>\n",
       "      <td>1er-1er 2001 a 3000</td>\n",
       "      <td>128 Tours - 2209.536 Km</td>\n",
       "      <td>Moyenne 92.064 km/h</td>\n",
       "      <td>09:59</td>\n",
       "      <td>NaN</td>\n",
       "      <td>André Lagache</td>\n",
       "      <td>René Léonard</td>\n",
       "      <td>NaN</td>\n",
       "    </tr>\n",
       "    <tr>\n",
       "      <th>1</th>\n",
       "      <td>Chenard et Walcker Sport</td>\n",
       "      <td>2</td>\n",
       "      <td>NaN</td>\n",
       "      <td>Moteur Chenard et Walker L4 2978cc</td>\n",
       "      <td>NaN</td>\n",
       "      <td>2001 a 3000</td>\n",
       "      <td>1923</td>\n",
       "      <td>pas de chrono</td>\n",
       "      <td>NaN</td>\n",
       "      <td>2ème-2e 2001 a 3000</td>\n",
       "      <td>124 Tours - 2140.488 Km</td>\n",
       "      <td>Moyenne 89.187 km/h</td>\n",
       "      <td>NaN</td>\n",
       "      <td>NaN</td>\n",
       "      <td>Raoul Bachmann</td>\n",
       "      <td>Christian Dauvergne</td>\n",
       "      <td>NaN</td>\n",
       "    </tr>\n",
       "    <tr>\n",
       "      <th>2</th>\n",
       "      <td>Bignan 11 HP Desmo</td>\n",
       "      <td>3</td>\n",
       "      <td>NaN</td>\n",
       "      <td>Moteur Bignan L4 1979cc</td>\n",
       "      <td>NaN</td>\n",
       "      <td>1501 a 2000</td>\n",
       "      <td>1923</td>\n",
       "      <td>pas de chrono</td>\n",
       "      <td>NaN</td>\n",
       "      <td>3ème-1er 1501 a 2000</td>\n",
       "      <td>120 Tours - 2071.44 Km</td>\n",
       "      <td>Moyenne 86.308 km/h</td>\n",
       "      <td>NaN</td>\n",
       "      <td>NaN</td>\n",
       "      <td>Raymond de Tornaco</td>\n",
       "      <td>Victor Gros</td>\n",
       "      <td>NaN</td>\n",
       "    </tr>\n",
       "    <tr>\n",
       "      <th>3</th>\n",
       "      <td>Excelsior Adex C</td>\n",
       "      <td>4</td>\n",
       "      <td>NaN</td>\n",
       "      <td>Moteur Excelsior L6 5343cc</td>\n",
       "      <td>NaN</td>\n",
       "      <td>5001 a 8000</td>\n",
       "      <td>1923</td>\n",
       "      <td>pas de chrono</td>\n",
       "      <td>NaN</td>\n",
       "      <td>4ème-1er 5001 a 8000</td>\n",
       "      <td>112 Tours - 1933.344 Km</td>\n",
       "      <td>Moyenne 80.556 km/h</td>\n",
       "      <td>NaN</td>\n",
       "      <td>NaN</td>\n",
       "      <td>André Dils</td>\n",
       "      <td>Nicolas Caerels</td>\n",
       "      <td>NaN</td>\n",
       "    </tr>\n",
       "    <tr>\n",
       "      <th>4</th>\n",
       "      <td>Bentley Sport</td>\n",
       "      <td>5</td>\n",
       "      <td>NaN</td>\n",
       "      <td>Moteur Bentley L4 2996cc</td>\n",
       "      <td>NaN</td>\n",
       "      <td>2001 a 3000</td>\n",
       "      <td>1923</td>\n",
       "      <td>pas de chrono</td>\n",
       "      <td>NaN</td>\n",
       "      <td>4ème-3e 2001 a 3000</td>\n",
       "      <td>112 Tours - 1933.344 Km</td>\n",
       "      <td>Moyenne 80.556 km/h</td>\n",
       "      <td>09:39</td>\n",
       "      <td>NaN</td>\n",
       "      <td>John Duff</td>\n",
       "      <td>Frank Clement</td>\n",
       "      <td>NaN</td>\n",
       "    </tr>\n",
       "  </tbody>\n",
       "</table>\n",
       "</div>"
      ],
      "text/plain": [
       "                        car  rank brand                              engine  \\\n",
       "0  Chenard et Walcker Sport     1   NaN  Moteur Chenard et Walker L4 2978cc   \n",
       "1  Chenard et Walcker Sport     2   NaN  Moteur Chenard et Walker L4 2978cc   \n",
       "2        Bignan 11 HP Desmo     3   NaN             Moteur Bignan L4 1979cc   \n",
       "3          Excelsior Adex C     4   NaN          Moteur Excelsior L6 5343cc   \n",
       "4             Bentley Sport     5   NaN            Moteur Bentley L4 2996cc   \n",
       "\n",
       "  tires_brand     category  race_year       try_rank try_speed  \\\n",
       "0    Michelin  2001 a 3000       1923  pas de chrono       NaN   \n",
       "1         NaN  2001 a 3000       1923  pas de chrono       NaN   \n",
       "2         NaN  1501 a 2000       1923  pas de chrono       NaN   \n",
       "3         NaN  5001 a 8000       1923  pas de chrono       NaN   \n",
       "4         NaN  2001 a 3000       1923  pas de chrono       NaN   \n",
       "\n",
       "              race_rank                 race_turn            race_mean  \\\n",
       "0   1er-1er 2001 a 3000  128 Tours - 2209.536 Km   Moyenne 92.064 km/h   \n",
       "1   2ème-2e 2001 a 3000  124 Tours - 2140.488 Km   Moyenne 89.187 km/h   \n",
       "2  3ème-1er 1501 a 2000   120 Tours - 2071.44 Km   Moyenne 86.308 km/h   \n",
       "3  4ème-1er 5001 a 8000  112 Tours - 1933.344 Km   Moyenne 80.556 km/h   \n",
       "4   4ème-3e 2001 a 3000  112 Tours - 1933.344 Km   Moyenne 80.556 km/h   \n",
       "\n",
       "  race_best_turn race_max_speed             pilot_1              pilot_2  \\\n",
       "0          09:59            NaN       André Lagache         René Léonard   \n",
       "1            NaN            NaN      Raoul Bachmann  Christian Dauvergne   \n",
       "2            NaN            NaN  Raymond de Tornaco          Victor Gros   \n",
       "3            NaN            NaN          André Dils      Nicolas Caerels   \n",
       "4          09:39            NaN           John Duff        Frank Clement   \n",
       "\n",
       "  pilot_3  \n",
       "0     NaN  \n",
       "1     NaN  \n",
       "2     NaN  \n",
       "3     NaN  \n",
       "4     NaN  "
      ]
     },
     "execution_count": 167,
     "metadata": {},
     "output_type": "execute_result"
    }
   ],
   "source": [
    "data.head()"
   ]
  },
  {
   "cell_type": "code",
   "execution_count": 168,
   "id": "45f473ca",
   "metadata": {},
   "outputs": [
    {
     "name": "stdout",
     "output_type": "stream",
     "text": [
      "<class 'pandas.core.frame.DataFrame'>\n",
      "RangeIndex: 4657 entries, 0 to 4656\n",
      "Data columns (total 17 columns):\n",
      " #   Column          Non-Null Count  Dtype \n",
      "---  ------          --------------  ----- \n",
      " 0   car             4657 non-null   object\n",
      " 1   rank            4657 non-null   int64 \n",
      " 2   brand           4409 non-null   object\n",
      " 3   engine          4657 non-null   object\n",
      " 4   tires_brand     3099 non-null   object\n",
      " 5   category        4657 non-null   object\n",
      " 6   race_year       4657 non-null   int64 \n",
      " 7   try_rank        4657 non-null   object\n",
      " 8   try_speed       3240 non-null   object\n",
      " 9   race_rank       4657 non-null   object\n",
      " 10  race_turn       4657 non-null   object\n",
      " 11  race_mean       2180 non-null   object\n",
      " 12  race_best_turn  3653 non-null   object\n",
      " 13  race_max_speed  1949 non-null   object\n",
      " 14  pilot_1         4656 non-null   object\n",
      " 15  pilot_2         4652 non-null   object\n",
      " 16  pilot_3         2473 non-null   object\n",
      "dtypes: int64(2), object(15)\n",
      "memory usage: 618.6+ KB\n"
     ]
    }
   ],
   "source": [
    "data.info()"
   ]
  },
  {
   "cell_type": "markdown",
   "id": "e3e09663",
   "metadata": {},
   "source": [
    "après quelques commandes, on peut voir qu'il va y avoir beaucoup de travail à faire sur les données car ce sont essentiellement des strings."
   ]
  },
  {
   "cell_type": "code",
   "execution_count": 46,
   "id": "18480546",
   "metadata": {},
   "outputs": [
    {
     "data": {
      "text/plain": [
       "car                0.000000\n",
       "rank               0.000000\n",
       "brand              5.325317\n",
       "engine             0.000000\n",
       "tires_brand       33.455014\n",
       "category           0.000000\n",
       "race_year          0.000000\n",
       "try_rank           0.000000\n",
       "try_speed         30.427314\n",
       "race_rank          0.000000\n",
       "race_turn          0.000000\n",
       "race_mean         53.188748\n",
       "race_best_turn    21.558944\n",
       "race_max_speed    58.149023\n",
       "pilot_1            0.021473\n",
       "pilot_2            0.107365\n",
       "pilot_3           46.897144\n",
       "dtype: float64"
      ]
     },
     "execution_count": 46,
     "metadata": {},
     "output_type": "execute_result"
    }
   ],
   "source": [
    "data.isnull().sum()/len(data)*100"
   ]
  },
  {
   "cell_type": "markdown",
   "id": "4e824997",
   "metadata": {},
   "source": [
    "après cette commande, on peut voir qu'un certain nombre de données sont manquante mais c'est normal car certaines informations n'était pas disponible dans les premières années ou alors disponible uniquement après un changement de réglementation (comme le troisième pilote par exemple)"
   ]
  },
  {
   "cell_type": "markdown",
   "id": "ceaddce4",
   "metadata": {},
   "source": [
    "Pour cette partie j'ai voulu retravailler les données de la colonne catégorie pour pouvoir filtrer par la suite"
   ]
  },
  {
   "cell_type": "code",
   "execution_count": 47,
   "id": "75b218e2",
   "metadata": {},
   "outputs": [
    {
     "data": {
      "text/plain": [
       "LM P2             340\n",
       "LM P1             243\n",
       "3001 a 5000       213\n",
       "C1                206\n",
       "751 a 1100        200\n",
       "                 ... \n",
       "56è STAND           1\n",
       "Invité              1\n",
       "Gr B                1\n",
       "Gr II               1\n",
       "Innovative Car      1\n",
       "Name: category, Length: 71, dtype: int64"
      ]
     },
     "execution_count": 47,
     "metadata": {},
     "output_type": "execute_result"
    }
   ],
   "source": [
    "data['category'].value_counts()"
   ]
  },
  {
   "cell_type": "code",
   "execution_count": 57,
   "id": "8320a867",
   "metadata": {},
   "outputs": [
    {
     "data": {
      "text/plain": [
       "array(['2001 a 3000', '1501 a 2000', '5001 a 8000', '3001 a 5000',\n",
       "       '1001 a 1500', '751 a 1100', '501 a 750', 'plus de 4001',\n",
       "       '3001 à 4000', '2001 à 3000', '1501 à 2000', 'moins de 1000',\n",
       "       '1001 à 1500', 'Sport', 'GT', 'S', 'Exp', 'P', 'Invité', 'SP',\n",
       "       'GTS', 'TS', 'GTX', 'Gr VI', 'Gr V', 'GTP', 'Gr IV', 'IMSA',\n",
       "       'Gr II', 'Nascar', 'Gr VI -2 Litres', 'Gr VI  -2 Litres',\n",
       "       'IMSA GTX', 'IMSA GTO', 'Gr VI  2 Litres', 'C', 'IMSA GT', 'Gr B',\n",
       "       'B', 'CJ', 'C1', 'C2', 'IMSA GTP', 'S2', 'S1', 'C3', 'C4', 'GT1',\n",
       "       'LM P1', 'IMSA GTS', 'GT2', 'LM P2', 'WSC', 'LM GT1', 'LM GT2',\n",
       "       'LM P875', 'LM P', 'LM GTP', 'LM GTS', 'LM GT', 'LMP 900',\n",
       "       'LM P675', 'LM P1-LMP900', 'LM P1-LMP675', 'LM GTE Pro',\n",
       "       'LM GTE Am', 'CDNT', 'LM P1-L', '56è STAND', 'Hypercar',\n",
       "       'Innovative Car'], dtype=object)"
      ]
     },
     "execution_count": 57,
     "metadata": {},
     "output_type": "execute_result"
    }
   ],
   "source": [
    "data.category.unique()"
   ]
  },
  {
   "cell_type": "markdown",
   "id": "44862cb4",
   "metadata": {},
   "source": [
    "Là je je filtre les catégories pour en regrouper certaines"
   ]
  },
  {
   "cell_type": "code",
   "execution_count": 67,
   "id": "9198d090",
   "metadata": {},
   "outputs": [],
   "source": [
    "contain_values = data[data['category'].str.contains(' a | à |plus de|moins de')]"
   ]
  },
  {
   "cell_type": "code",
   "execution_count": 68,
   "id": "0109e562",
   "metadata": {},
   "outputs": [
    {
     "data": {
      "text/plain": [
       "array(['2001 a 3000', '1501 a 2000', '5001 a 8000', '3001 a 5000',\n",
       "       '1001 a 1500', '751 a 1100', '501 a 750', 'plus de 4001',\n",
       "       '3001 à 4000', '2001 à 3000', '1501 à 2000', 'moins de 1000',\n",
       "       '1001 à 1500'], dtype=object)"
      ]
     },
     "execution_count": 68,
     "metadata": {},
     "output_type": "execute_result"
    }
   ],
   "source": [
    "contain_values.category.unique()"
   ]
  },
  {
   "cell_type": "markdown",
   "id": "44df4a12",
   "metadata": {},
   "source": [
    "ici j'ai voulu afficher un graphique de l'évolution de race_mean, race_best_turn, race_max_speed par années "
   ]
  },
  {
   "cell_type": "code",
   "execution_count": 145,
   "id": "96e4263f",
   "metadata": {},
   "outputs": [
    {
     "data": {
      "text/plain": [
       "0          09:59\n",
       "1            NaN\n",
       "2            NaN\n",
       "3            NaN\n",
       "4          09:39\n",
       "          ...   \n",
       "4652    3:49.696\n",
       "4653    3:54.379\n",
       "4654    3:54.374\n",
       "4655    3:53.977\n",
       "4656    3:51.318\n",
       "Name: race_best_turn, Length: 4657, dtype: object"
      ]
     },
     "execution_count": 145,
     "metadata": {},
     "output_type": "execute_result"
    }
   ],
   "source": [
    "data['race_best_turn']"
   ]
  },
  {
   "cell_type": "markdown",
   "id": "c899dbf1",
   "metadata": {},
   "source": [
    "ces deux fonctions retravail mes données pour les rendre interprétable et formaté comme du temps"
   ]
  },
  {
   "cell_type": "code",
   "execution_count": 260,
   "id": "f7394193",
   "metadata": {},
   "outputs": [],
   "source": [
    "def strftime_format(value, format):\n",
    "    try:\n",
    "        datetime.datetime.strptime(value, format)\n",
    "    except ValueError:\n",
    "        return False\n",
    "    return True"
   ]
  },
  {
   "cell_type": "code",
   "execution_count": 261,
   "id": "c62a46dc",
   "metadata": {},
   "outputs": [],
   "source": [
    "def string_to_time(value):\n",
    "    try:\n",
    "        if strftime_format(value, '%M:%S.%f'):\n",
    "            return datetime.datetime.strptime(value, '%M:%S.%f').strftime('%M:%S.%f')\n",
    "        elif strftime_format(value, '%M:%S'):\n",
    "            return datetime.datetime.strptime(value, '%M:%S').strftime('%M:%S.%f')\n",
    "        else:\n",
    "            return datetime.datetime.strptime('00:00.000', '%M:%S.%f').strftime('%M:%S.%f')\n",
    "    except ValueError:\n",
    "        return datetime.datetime.strptime('00:00.000', '%M:%S.%f').strftime('%M:%S.%f')"
   ]
  },
  {
   "cell_type": "code",
   "execution_count": 262,
   "id": "0f1d4b11",
   "metadata": {
    "scrolled": true
   },
   "outputs": [],
   "source": [
    "data['race_best_turn'] = data['race_best_turn'].fillna('0')\n",
    "data['race_best_turn'] = data['race_best_turn'].apply(string_to_time)"
   ]
  },
  {
   "cell_type": "code",
   "execution_count": 263,
   "id": "62610dc6",
   "metadata": {
    "scrolled": false
   },
   "outputs": [
    {
     "data": {
      "text/plain": [
       "0       09:59.000000\n",
       "1       00:00.000000\n",
       "2       00:00.000000\n",
       "3       00:00.000000\n",
       "4       09:39.000000\n",
       "            ...     \n",
       "4652    03:49.696000\n",
       "4653    03:54.379000\n",
       "4654    03:54.374000\n",
       "4655    03:53.977000\n",
       "4656    03:51.318000\n",
       "Name: race_best_turn, Length: 4657, dtype: object"
      ]
     },
     "execution_count": 263,
     "metadata": {},
     "output_type": "execute_result"
    }
   ],
   "source": [
    "data['race_best_turn']"
   ]
  },
  {
   "cell_type": "markdown",
   "id": "fd0616e2",
   "metadata": {},
   "source": [
    "Pour les deux graphiques suivant, on peut voir l'évolution de la vitesse sur le meilleur tour en fonction de l'année"
   ]
  },
  {
   "cell_type": "code",
   "execution_count": 314,
   "id": "8a5e3889",
   "metadata": {},
   "outputs": [],
   "source": [
    "date = data[\"race_year\"]\n",
    "value = data[\"race_best_turn\"].values.astype(str)"
   ]
  },
  {
   "cell_type": "code",
   "execution_count": 315,
   "id": "a178c870",
   "metadata": {
    "scrolled": true
   },
   "outputs": [
    {
     "data": {
      "image/png": "[encoded data removed]",
      "text/plain": [
       "<Figure size 576x432 with 1 Axes>"
      ]
     },
     "metadata": {
      "needs_background": "light"
     },
     "output_type": "display_data"
    }
   ],
   "source": [
    "fig, ax = plt.subplots(figsize=(8, 6))\n",
    "ax.plot(date, value);"
   ]
  },
  {
   "cell_type": "code",
   "execution_count": 303,
   "id": "56f9b5f4",
   "metadata": {},
   "outputs": [
    {
     "data": {
      "text/plain": [
       "<AxesSubplot:xlabel='race_year', ylabel='race_best_turn'>"
      ]
     },
     "execution_count": 303,
     "metadata": {},
     "output_type": "execute_result"
    },
    {
     "data": {
      "image/png": "[encoded data removed]",
      "text/plain": [
       "<Figure size 432x288 with 1 Axes>"
      ]
     },
     "metadata": {
      "needs_background": "light"
     },
     "output_type": "display_data"
    }
   ],
   "source": [
    "sns.scatterplot(x=\"race_year\", y='race_best_turn', data=data)"
   ]
  },
  {
   "cell_type": "markdown",
   "id": "df3fca7a",
   "metadata": {},
   "source": [
    "même si le graphique n'est pas propre on peut voir que les temps ont énormément réduit au fur \n",
    "et à mesure des années"
   ]
  },
  {
   "cell_type": "code",
   "execution_count": null,
   "id": "b0affec2",
   "metadata": {},
   "outputs": [],
   "source": []
  }
 ],
 "metadata": {
  "kernelspec": {
   "display_name": "Python 3 (ipykernel)",
   "language": "python",
   "name": "python3"
  },
  "language_info": {
   "codemirror_mode": {
    "name": "ipython",
    "version": 3
   },
   "file_extension": ".py",
   "mimetype": "text/x-python",
   "name": "python",
   "nbconvert_exporter": "python",
   "pygments_lexer": "ipython3",
   "version": "3.10.6"
  }
 },
 "nbformat": 4,
 "nbformat_minor": 5
}
