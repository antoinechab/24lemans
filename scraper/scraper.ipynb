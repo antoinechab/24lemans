{
 "cells": [
  {
   "cell_type": "markdown",
   "id": "67dccfb7",
   "metadata": {},
   "source": [
    "# Scraping Workflow"
   ]
  },
  {
   "cell_type": "markdown",
   "id": "fb897d3e",
   "metadata": {},
   "source": [
    "🎯 The purpose of this code is to browse the site http://www.les24heures.fr/database/palmaresdes24hdumans to retrieve all the charts detailed by years to build a clean dataset on which to work"
   ]
  },
  {
   "cell_type": "markdown",
   "id": "7700cd29",
   "metadata": {},
   "source": [
    "<details>\n",
    "    <summary>💡 detail</summary>\n",
    "ℹ️ I was forced to scrap this site, because only Wikipedia and this site provide data on the winners of the 24h du Mans. I could have scraped Wikipedia much more easily using https://wikitable2csv.ggor.de/ for example, but the data retrieved would have left me with very few analysis axes. Indeed, Wikipedia references only the years of victories by brands for example, but doesn't give any details about the engine used, the lap times or any other data like that.\n",
    "</details>"
   ]
  },
  {
   "cell_type": "markdown",
   "id": "ea5e0a19",
   "metadata": {},
   "source": [
    "🚩 To begin, I start by importing BeautifulSoup which is a python library that allows you to scrape websites and facilitate the search in the retrieved content, pandas which is a python library that allows you to work with more or less complex datasets such as dataframes for example and os which is a library that I will use to execute a shell script with python"
   ]
  },
  {
   "cell_type": "code",
   "execution_count": 21,
   "id": "9ef49ef5",
   "metadata": {},
   "outputs": [],
   "source": [
    "from bs4 import BeautifulSoup as bs\n",
    "import pandas as pd\n",
    "import os"
   ]
  },
  {
   "cell_type": "markdown",
   "id": "6757e777",
   "metadata": {},
   "source": [
    "🚩 First, I execute this command which will launch the curl.sh script whose role is to execute curls on the site with a certain number of parameters and finally to record the contents of each page year by year in a project folder."
   ]
  },
  {
   "cell_type": "markdown",
   "id": "a60e8fdf",
   "metadata": {},
   "source": [
    "<details>\n",
    "    <summary>💡 detail</summary>\n",
    "ℹ️ I had to create this script because the site uses a search engine that allows you to search the charts by years, but everything is in an iframe and I couldn't find a way to retrieve all the years at once.\n",
    "I retrieved the list of available years by copying the options of the select \n",
    "And then I executed a query by year by changing the corresponding parameter.\n",
    "</details>"
   ]
  },
  {
   "cell_type": "code",
   "execution_count": 22,
   "id": "7b1622d2",
   "metadata": {
    "collapsed": true
   },
   "outputs": [
    {
     "name": "stderr",
     "output_type": "stream",
     "text": [
      "  % Total    % Received % Xferd  Average Speed   Time    Time     Time  Current\n",
      "                                 Dload  Upload   Total   Spent    Left  Speed\n",
      "100  831k    0  831k  100   305   515k    189  0:00:01  0:00:01 --:--:--  515k\n",
      "  % Total    % Received % Xferd  Average Speed   Time    Time     Time  Current\n",
      "                                 Dload  Upload   Total   Spent    Left  Speed\n",
      "100  999k    0  999k  100   305   652k    199  0:00:01  0:00:01 --:--:--  653k\n",
      "  % Total    % Received % Xferd  Average Speed   Time    Time     Time  Current\n",
      "                                 Dload  Upload   Total   Spent    Left  Speed\n",
      "100 1191k    0 1191k  100   305   657k    168  0:00:01  0:00:01 --:--:--  658k\n",
      "  % Total    % Received % Xferd  Average Speed   Time    Time     Time  Current\n",
      "                                 Dload  Upload   Total   Spent    Left  Speed\n",
      "100  999k    0  999k  100   305   614k    187  0:00:01  0:00:01 --:--:--  614k\n",
      "  % Total    % Received % Xferd  Average Speed   Time    Time     Time  Current\n",
      "                                 Dload  Upload   Total   Spent    Left  Speed\n",
      "100  543k    0  543k  100   305   548k    307 --:--:-- --:--:-- --:--:--  548k\n",
      "  % Total    % Received % Xferd  Average Speed   Time    Time     Time  Current\n",
      "                                 Dload  Upload   Total   Spent    Left  Speed\n",
      "100  807k    0  807k  100   305   577k    218  0:00:01  0:00:01 --:--:--  578k\n",
      "  % Total    % Received % Xferd  Average Speed   Time    Time     Time  Current\n",
      "                                 Dload  Upload   Total   Spent    Left  Speed\n",
      "100  615k    0  615k  100   305   567k    281  0:00:01  0:00:01 --:--:--  568k\n",
      "  % Total    % Received % Xferd  Average Speed   Time    Time     Time  Current\n",
      "                                 Dload  Upload   Total   Spent    Left  Speed\n",
      "100  447k    0  447k  100   305   498k    339 --:--:-- --:--:-- --:--:--  498k\n",
      "  % Total    % Received % Xferd  Average Speed   Time    Time     Time  Current\n",
      "                                 Dload  Upload   Total   Spent    Left  Speed\n",
      "100  639k    0  639k  100   305   584k    278  0:00:01  0:00:01 --:--:--  584k\n",
      "  % Total    % Received % Xferd  Average Speed   Time    Time     Time  Current\n",
      "                                 Dload  Upload   Total   Spent    Left  Speed\n",
      "100  640k    0  639k  100   306   568k    272  0:00:01  0:00:01 --:--:--  569k\n",
      "  % Total    % Received % Xferd  Average Speed   Time    Time     Time  Current\n",
      "                                 Dload  Upload   Total   Spent    Left  Speed\n",
      "100  711k    0  711k  100   306   569k    244  0:00:01  0:00:01 --:--:--  569k\n",
      "  % Total    % Received % Xferd  Average Speed   Time    Time     Time  Current\n",
      "                                 Dload  Upload   Total   Spent    Left  Speed\n",
      "100 1072k    0 1072k  100   306   626k    178  0:00:01  0:00:01 --:--:--  627k\n",
      "  % Total    % Received % Xferd  Average Speed   Time    Time     Time  Current\n",
      "                                 Dload  Upload   Total   Spent    Left  Speed\n",
      "100 1408k    0 1408k  100   306   661k    143  0:00:02  0:00:02 --:--:--  661k\n",
      "  % Total    % Received % Xferd  Average Speed   Time    Time     Time  Current\n",
      "                                 Dload  Upload   Total   Spent    Left  Speed\n",
      "100 1192k    0 1192k  100   306   633k    162  0:00:01  0:00:01 --:--:--  633k\n",
      "  % Total    % Received % Xferd  Average Speed   Time    Time     Time  Current\n",
      "                                 Dload  Upload   Total   Spent    Left  Speed\n",
      "100 1024k    0 1024k  100   306   632k    189  0:00:01  0:00:01 --:--:--  632k\n",
      "  % Total    % Received % Xferd  Average Speed   Time    Time     Time  Current\n",
      "                                 Dload  Upload   Total   Spent    Left  Speed\n",
      "100 1024k    0 1023k  100   306   633k    189  0:00:01  0:00:01 --:--:--  633k\n",
      "  % Total    % Received % Xferd  Average Speed   Time    Time     Time  Current\n",
      "                                 Dload  Upload   Total   Spent    Left  Speed\n",
      "100 1192k    0 1192k  100   306   648k    166  0:00:01  0:00:01 --:--:--  647k\n",
      "  % Total    % Received % Xferd  Average Speed   Time    Time     Time  Current\n",
      "                                 Dload  Upload   Total   Spent    Left  Speed\n",
      "100 1457k    0 1457k  100   306   656k    137  0:00:02  0:00:02 --:--:--  656k\n",
      "  % Total    % Received % Xferd  Average Speed   Time    Time     Time  Current\n",
      "                                 Dload  Upload   Total   Spent    Left  Speed\n",
      "100 1457k    0 1456k  100   306   667k    140  0:00:02  0:00:02 --:--:--  668k\n",
      "  % Total    % Received % Xferd  Average Speed   Time    Time     Time  Current\n",
      "                                 Dload  Upload   Total   Spent    Left  Speed\n",
      "100 1384k    0 1384k  100   306   697k    154  0:00:01  0:00:01 --:--:--  697k\n",
      "  % Total    % Received % Xferd  Average Speed   Time    Time     Time  Current\n",
      "                                 Dload  Upload   Total   Spent    Left  Speed\n",
      "100 1506k    0 1505k  100   306   673k    136  0:00:02  0:00:02 --:--:--  673k\n",
      "  % Total    % Received % Xferd  Average Speed   Time    Time     Time  Current\n",
      "                                 Dload  Upload   Total   Spent    Left  Speed\n",
      "100 1410k    0 1409k  100   306   699k    151  0:00:02  0:00:02 --:--:--  699k\n",
      "  % Total    % Received % Xferd  Average Speed   Time    Time     Time  Current\n",
      "                                 Dload  Upload   Total   Spent    Left  Speed\n",
      "100 1458k    0 1457k  100   306   694k    145  0:00:02  0:00:02 --:--:--  695k\n",
      "  % Total    % Received % Xferd  Average Speed   Time    Time     Time  Current\n",
      "                                 Dload  Upload   Total   Spent    Left  Speed\n",
      "100 1194k    0 1194k  100   306   679k    174  0:00:01  0:00:01 --:--:--  679k\n",
      "  % Total    % Received % Xferd  Average Speed   Time    Time     Time  Current\n",
      "                                 Dload  Upload   Total   Spent    Left  Speed\n",
      "100 1362k    0 1361k  100   306   653k    146  0:00:02  0:00:02 --:--:--  654k\n",
      "  % Total    % Received % Xferd  Average Speed   Time    Time     Time  Current\n",
      "                                 Dload  Upload   Total   Spent    Left  Speed\n",
      "100 1337k    0 1336k  100   306   684k    156  0:00:01  0:00:01 --:--:--  684k\n",
      "  % Total    % Received % Xferd  Average Speed   Time    Time     Time  Current\n",
      "                                 Dload  Upload   Total   Spent    Left  Speed\n",
      "100 1311k    0 1311k  100   306   700k    163  0:00:01  0:00:01 --:--:--  700k\n",
      "  % Total    % Received % Xferd  Average Speed   Time    Time     Time  Current\n",
      "                                 Dload  Upload   Total   Spent    Left  Speed\n",
      "100 1408k    0 1408k  100   306   718k    156  0:00:01  0:00:01 --:--:--  718k\n",
      "  % Total    % Received % Xferd  Average Speed   Time    Time     Time  Current\n",
      "                                 Dload  Upload   Total   Spent    Left  Speed\n",
      "100 1361k    0 1361k  100   306   722k    162  0:00:01  0:00:01 --:--:--  722k\n",
      "  % Total    % Received % Xferd  Average Speed   Time    Time     Time  Current\n",
      "                                 Dload  Upload   Total   Spent    Left  Speed\n",
      "100 1362k    0 1362k  100   306   719k    161  0:00:01  0:00:01 --:--:--  719k\n",
      "  % Total    % Received % Xferd  Average Speed   Time    Time     Time  Current\n",
      "                                 Dload  Upload   Total   Spent    Left  Speed\n",
      "100 1194k    0 1194k  100   306   661k    169  0:00:01  0:00:01 --:--:--  661k\n",
      "  % Total    % Received % Xferd  Average Speed   Time    Time     Time  Current\n",
      "                                 Dload  Upload   Total   Spent    Left  Speed\n",
      "100 1411k    0 1411k  100   306   689k    149  0:00:02  0:00:02 --:--:--  690k\n",
      "  % Total    % Received % Xferd  Average Speed   Time    Time     Time  Current\n",
      "                                 Dload  Upload   Total   Spent    Left  Speed\n",
      "100 1266k    0 1265k  100   306   706k    170  0:00:01  0:00:01 --:--:--  706k\n",
      "  % Total    % Received % Xferd  Average Speed   Time    Time     Time  Current\n",
      "                                 Dload  Upload   Total   Spent    Left  Speed\n",
      "100 1385k    0 1385k  100   306   691k    152  0:00:02  0:00:02 --:--:--  692k\n",
      "  % Total    % Received % Xferd  Average Speed   Time    Time     Time  Current\n",
      "                                 Dload  Upload   Total   Spent    Left  Speed\n"
     ]
    },
    {
     "name": "stderr",
     "output_type": "stream",
     "text": [
      "100 1386k    0 1386k  100   306   694k    153  0:00:02  0:00:01  0:00:01  695k\n",
      "  % Total    % Received % Xferd  Average Speed   Time    Time     Time  Current\n",
      "                                 Dload  Upload   Total   Spent    Left  Speed\n",
      "100 1410k    0 1410k  100   306   661k    143  0:00:02  0:00:02 --:--:--  661k\n",
      "  % Total    % Received % Xferd  Average Speed   Time    Time     Time  Current\n",
      "                                 Dload  Upload   Total   Spent    Left  Speed\n",
      "100 1242k    0 1242k  100   306   635k    156  0:00:01  0:00:01 --:--:--  635k\n",
      "  % Total    % Received % Xferd  Average Speed   Time    Time     Time  Current\n",
      "                                 Dload  Upload   Total   Spent    Left  Speed\n",
      "100 1387k    0 1387k  100   306   674k    148  0:00:02  0:00:02 --:--:--  674k\n",
      "  % Total    % Received % Xferd  Average Speed   Time    Time     Time  Current\n",
      "                                 Dload  Upload   Total   Spent    Left  Speed\n",
      "100 1290k    0 1290k  100   306   635k    150  0:00:02  0:00:02 --:--:--  635k\n",
      "  % Total    % Received % Xferd  Average Speed   Time    Time     Time  Current\n",
      "                                 Dload  Upload   Total   Spent    Left  Speed\n",
      "100 1607k    0 1607k  100   306   693k    132  0:00:02  0:00:02 --:--:--  694k\n",
      "  % Total    % Received % Xferd  Average Speed   Time    Time     Time  Current\n",
      "                                 Dload  Upload   Total   Spent    Left  Speed\n",
      "100 1487k    0 1486k  100   306   676k    139  0:00:02  0:00:02 --:--:--  676k\n",
      "  % Total    % Received % Xferd  Average Speed   Time    Time     Time  Current\n",
      "                                 Dload  Upload   Total   Spent    Left  Speed\n",
      "100 1223k    0 1223k  100   306   631k    157  0:00:01  0:00:01 --:--:--  631k\n",
      "  % Total    % Received % Xferd  Average Speed   Time    Time     Time  Current\n",
      "                                 Dload  Upload   Total   Spent    Left  Speed\n",
      "100 1730k    0 1729k  100   306   674k    119  0:00:02  0:00:02 --:--:--  674k\n",
      "  % Total    % Received % Xferd  Average Speed   Time    Time     Time  Current\n",
      "                                 Dload  Upload   Total   Spent    Left  Speed\n",
      "100 1418k    0 1417k  100   306   633k    136  0:00:02  0:00:02 --:--:--  633k\n",
      "  % Total    % Received % Xferd  Average Speed   Time    Time     Time  Current\n",
      "                                 Dload  Upload   Total   Spent    Left  Speed\n",
      "100 1515k    0 1515k  100   306   617k    124  0:00:02  0:00:02 --:--:--  617k\n",
      "  % Total    % Received % Xferd  Average Speed   Time    Time     Time  Current\n",
      "                                 Dload  Upload   Total   Spent    Left  Speed\n",
      "100 1541k    0 1541k  100   306   604k    120  0:00:02  0:00:02 --:--:--  605k\n",
      "  % Total    % Received % Xferd  Average Speed   Time    Time     Time  Current\n",
      "                                 Dload  Upload   Total   Spent    Left  Speed\n",
      "100 1468k    0 1468k  100   306   601k    125  0:00:02  0:00:02 --:--:--  601k\n",
      "  % Total    % Received % Xferd  Average Speed   Time    Time     Time  Current\n",
      "                                 Dload  Upload   Total   Spent    Left  Speed\n",
      "100 1589k    0 1588k  100   306   581k    112  0:00:02  0:00:02 --:--:--  582k\n",
      "  % Total    % Received % Xferd  Average Speed   Time    Time     Time  Current\n",
      "                                 Dload  Upload   Total   Spent    Left  Speed\n",
      "100 1491k    0 1491k  100   306   552k    113  0:00:02  0:00:02 --:--:--  552k\n",
      "  % Total    % Received % Xferd  Average Speed   Time    Time     Time  Current\n",
      "                                 Dload  Upload   Total   Spent    Left  Speed\n",
      "100 1419k    0 1418k  100   306   588k    127  0:00:02  0:00:02 --:--:--  589k\n",
      "  % Total    % Received % Xferd  Average Speed   Time    Time     Time  Current\n",
      "                                 Dload  Upload   Total   Spent    Left  Speed\n",
      "100 1298k    0 1298k  100   306   561k    132  0:00:02  0:00:02 --:--:--  561k\n",
      "  % Total    % Received % Xferd  Average Speed   Time    Time     Time  Current\n",
      "                                 Dload  Upload   Total   Spent    Left  Speed\n",
      "100 1348k    0 1347k  100   306   564k    128  0:00:02  0:00:02 --:--:--  565k\n",
      "  % Total    % Received % Xferd  Average Speed   Time    Time     Time  Current\n",
      "                                 Dload  Upload   Total   Spent    Left  Speed\n",
      "100 1322k    0 1321k  100   306   555k    128  0:00:02  0:00:02 --:--:--  555k\n",
      "  % Total    % Received % Xferd  Average Speed   Time    Time     Time  Current\n",
      "                                 Dload  Upload   Total   Spent    Left  Speed\n",
      "100 1274k    0 1274k  100   306   570k    136  0:00:02  0:00:02 --:--:--  570k\n",
      "  % Total    % Received % Xferd  Average Speed   Time    Time     Time  Current\n",
      "                                 Dload  Upload   Total   Spent    Left  Speed\n",
      "100 1226k    0 1226k  100   306   573k    143  0:00:02  0:00:02 --:--:--  573k\n",
      "  % Total    % Received % Xferd  Average Speed   Time    Time     Time  Current\n",
      "                                 Dload  Upload   Total   Spent    Left  Speed\n",
      "100 1274k    0 1274k  100   306   578k    138  0:00:02  0:00:02 --:--:--  578k\n",
      "  % Total    % Received % Xferd  Average Speed   Time    Time     Time  Current\n",
      "                                 Dload  Upload   Total   Spent    Left  Speed\n",
      "100 1470k    0 1470k  100   306   580k    120  0:00:02  0:00:02 --:--:--  580k\n",
      "  % Total    % Received % Xferd  Average Speed   Time    Time     Time  Current\n",
      "                                 Dload  Upload   Total   Spent    Left  Speed\n",
      "100 1323k    0 1323k  100   306   558k    129  0:00:02  0:00:02 --:--:--  558k\n",
      "  % Total    % Received % Xferd  Average Speed   Time    Time     Time  Current\n",
      "                                 Dload  Upload   Total   Spent    Left  Speed\n",
      "100 1081k    0 1080k  100   306   580k    164  0:00:01  0:00:01 --:--:--  581k\n",
      "  % Total    % Received % Xferd  Average Speed   Time    Time     Time  Current\n",
      "                                 Dload  Upload   Total   Spent    Left  Speed\n",
      "100  742k    0  742k  100   306   530k    218  0:00:01  0:00:01 --:--:--  530k\n",
      "  % Total    % Received % Xferd  Average Speed   Time    Time     Time  Current\n",
      "                                 Dload  Upload   Total   Spent    Left  Speed\n",
      "100 1227k    0 1227k  100   306   542k    135  0:00:02  0:00:02 --:--:--  542k\n",
      "  % Total    % Received % Xferd  Average Speed   Time    Time     Time  Current\n",
      "                                 Dload  Upload   Total   Spent    Left  Speed\n",
      "100 1227k    0 1227k  100   306   574k    143  0:00:02  0:00:02 --:--:--  575k\n",
      "  % Total    % Received % Xferd  Average Speed   Time    Time     Time  Current\n",
      "                                 Dload  Upload   Total   Spent    Left  Speed\n",
      "100 1252k    0 1251k  100   306   557k    136  0:00:02  0:00:02 --:--:--  557k\n",
      "  % Total    % Received % Xferd  Average Speed   Time    Time     Time  Current\n",
      "                                 Dload  Upload   Total   Spent    Left  Speed\n",
      "100 1276k    0 1276k  100   306   563k    135  0:00:02  0:00:02 --:--:--  563k\n",
      "  % Total    % Received % Xferd  Average Speed   Time    Time     Time  Current\n",
      "                                 Dload  Upload   Total   Spent    Left  Speed\n",
      "100 1275k    0 1275k  100   306   535k    128  0:00:02  0:00:02 --:--:--  535k\n",
      "  % Total    % Received % Xferd  Average Speed   Time    Time     Time  Current\n",
      "                                 Dload  Upload   Total   Spent    Left  Speed\n",
      "100 1155k    0 1154k  100   306   525k    139  0:00:02  0:00:02 --:--:--  525k\n",
      "  % Total    % Received % Xferd  Average Speed   Time    Time     Time  Current\n",
      "                                 Dload  Upload   Total   Spent    Left  Speed\n",
      "100 1179k    0 1179k  100   306   550k    142  0:00:02  0:00:02 --:--:--  550k\n",
      "  % Total    % Received % Xferd  Average Speed   Time    Time     Time  Current\n",
      "                                 Dload  Upload   Total   Spent    Left  Speed\n",
      "100 1180k    0 1179k  100   306   567k    147  0:00:02  0:00:02 --:--:--  568k\n",
      "  % Total    % Received % Xferd  Average Speed   Time    Time     Time  Current\n",
      "                                 Dload  Upload   Total   Spent    Left  Speed\n",
      "100 1179k    0 1179k  100   306   556k    144  0:00:02  0:00:02 --:--:--  556k\n",
      "  % Total    % Received % Xferd  Average Speed   Time    Time     Time  Current\n",
      "                                 Dload  Upload   Total   Spent    Left  Speed\n"
     ]
    },
    {
     "name": "stderr",
     "output_type": "stream",
     "text": [
      "100 1227k    0 1227k  100   306   562k    140  0:00:02  0:00:02 --:--:--  562k\n",
      "  % Total    % Received % Xferd  Average Speed   Time    Time     Time  Current\n",
      "                                 Dload  Upload   Total   Spent    Left  Speed\n",
      "100 1228k    0 1227k  100   306   560k    139  0:00:02  0:00:02 --:--:--  560k\n",
      "  % Total    % Received % Xferd  Average Speed   Time    Time     Time  Current\n",
      "                                 Dload  Upload   Total   Spent    Left  Speed\n",
      "100 1179k    0 1179k  100   306   562k    145  0:00:02  0:00:02 --:--:--  563k\n",
      "  % Total    % Received % Xferd  Average Speed   Time    Time     Time  Current\n",
      "                                 Dload  Upload   Total   Spent    Left  Speed\n",
      "100 1203k    0 1203k  100   306   582k    148  0:00:02  0:00:02 --:--:--  583k\n",
      "  % Total    % Received % Xferd  Average Speed   Time    Time     Time  Current\n",
      "                                 Dload  Upload   Total   Spent    Left  Speed\n",
      "100 1228k    0 1227k  100   306   576k    143  0:00:02  0:00:02 --:--:--  577k\n",
      "  % Total    % Received % Xferd  Average Speed   Time    Time     Time  Current\n",
      "                                 Dload  Upload   Total   Spent    Left  Speed\n",
      "100 1325k    0 1325k  100   306   498k    115  0:00:02  0:00:02 --:--:--  498k\n",
      "  % Total    % Received % Xferd  Average Speed   Time    Time     Time  Current\n",
      "                                 Dload  Upload   Total   Spent    Left  Speed\n",
      "100 1349k    0 1349k  100   306   583k    132  0:00:02  0:00:02 --:--:--  583k\n",
      "  % Total    % Received % Xferd  Average Speed   Time    Time     Time  Current\n",
      "                                 Dload  Upload   Total   Spent    Left  Speed\n",
      "100 1349k    0 1348k  100   306   443k    100  0:00:03  0:00:03 --:--:--  443k\n",
      "  % Total    % Received % Xferd  Average Speed   Time    Time     Time  Current\n",
      "                                 Dload  Upload   Total   Spent    Left  Speed\n",
      "100 1374k    0 1374k  100   306   537k    119  0:00:02  0:00:02 --:--:--  537k\n",
      "  % Total    % Received % Xferd  Average Speed   Time    Time     Time  Current\n",
      "                                 Dload  Upload   Total   Spent    Left  Speed\n",
      "100 1374k    0 1374k  100   306   564k    125  0:00:02  0:00:02 --:--:--  564k\n",
      "  % Total    % Received % Xferd  Average Speed   Time    Time     Time  Current\n",
      "                                 Dload  Upload   Total   Spent    Left  Speed\n",
      "100 1375k    0 1374k  100   306   573k    127  0:00:02  0:00:02 --:--:--  572k\n",
      "  % Total    % Received % Xferd  Average Speed   Time    Time     Time  Current\n",
      "                                 Dload  Upload   Total   Spent    Left  Speed\n",
      "100 1375k    0 1375k  100   306   566k    126  0:00:02  0:00:02 --:--:--  566k\n",
      "  % Total    % Received % Xferd  Average Speed   Time    Time     Time  Current\n",
      "                                 Dload  Upload   Total   Spent    Left  Speed\n",
      "100 1350k    0 1350k  100   306   571k    129  0:00:02  0:00:02 --:--:--  571k\n",
      "  % Total    % Received % Xferd  Average Speed   Time    Time     Time  Current\n",
      "                                 Dload  Upload   Total   Spent    Left  Speed\n",
      "100 1374k    0 1374k  100   306   543k    121  0:00:02  0:00:02 --:--:--  544k\n",
      "  % Total    % Received % Xferd  Average Speed   Time    Time     Time  Current\n",
      "                                 Dload  Upload   Total   Spent    Left  Speed\n",
      "100 1471k    0 1471k  100   306   571k    118  0:00:02  0:00:02 --:--:--  571k\n",
      "  % Total    % Received % Xferd  Average Speed   Time    Time     Time  Current\n",
      "                                 Dload  Upload   Total   Spent    Left  Speed\n",
      "100 1472k    0 1471k  100   306   556k    115  0:00:02  0:00:02 --:--:--  557k\n",
      "  % Total    % Received % Xferd  Average Speed   Time    Time     Time  Current\n",
      "                                 Dload  Upload   Total   Spent    Left  Speed\n",
      "100 1471k    0 1471k  100   306   569k    118  0:00:02  0:00:02 --:--:--  569k\n",
      "  % Total    % Received % Xferd  Average Speed   Time    Time     Time  Current\n",
      "                                 Dload  Upload   Total   Spent    Left  Speed\n",
      "100 1520k    0 1519k  100   306   565k    113  0:00:02  0:00:02 --:--:--  565k\n",
      "  % Total    % Received % Xferd  Average Speed   Time    Time     Time  Current\n",
      "                                 Dload  Upload   Total   Spent    Left  Speed\n",
      "100 1447k    0 1446k  100   306   554k    117  0:00:02  0:00:02 --:--:--  554k\n",
      "  % Total    % Received % Xferd  Average Speed   Time    Time     Time  Current\n",
      "                                 Dload  Upload   Total   Spent    Left  Speed\n",
      "100 1520k    0 1520k  100   306   575k    115  0:00:02  0:00:02 --:--:--  575k\n",
      "  % Total    % Received % Xferd  Average Speed   Time    Time     Time  Current\n",
      "                                 Dload  Upload   Total   Spent    Left  Speed\n",
      "100 1519k    0 1519k  100   306   528k    106  0:00:02  0:00:02 --:--:--  528k\n"
     ]
    },
    {
     "data": {
      "text/plain": [
       "0"
      ]
     },
     "execution_count": 22,
     "metadata": {},
     "output_type": "execute_result"
    }
   ],
   "source": [
    "os.system('./curl.sh')"
   ]
  },
  {
   "cell_type": "markdown",
   "id": "5013e360",
   "metadata": {},
   "source": [
    "🚩 Here, I define the dataset variable which is a dictionary that I build dynamically afterwards and that I will then transform into csv at the end.\n",
    "The other variable is the list of years during which there was an edition of the 24h du mans (it's the same list as the one retrieved in the curl script before)"
   ]
  },
  {
   "cell_type": "code",
   "execution_count": null,
   "id": "79d404d1",
   "metadata": {},
   "outputs": [],
   "source": [
    "dataSet = {}\n",
    "yearsKeys=[1923, 1924, 1925, 1926, 1927, 1928, 1929, 1930, 1931, 1932, 1933, 1934, 1935, 1937, 1938, 1939, 1949, 1950, 1951, 1952, 1953, 1954, 1955, 1956, 1957, 1958, 1959, 1960, 1961, 1962, 1963, 1964, 1965, 1966, 1967, 1968, 1969, 1970, 1971, 1972, 1973, 1974, 1975, 1976, 1977, 1978, 1979, 1980, 1981, 1982, 1983, 1984, 1985, 1986, 1987, 1988, 1989, 1990, 1991, 1992, 1993, 1994, 1995, 1996, 1997, 1998, 1999, 2000, 2001, 2002, 2003, 2004, 2005, 2006, 2007, 2008, 2009, 2010, 2011, 2012, 2013, 2014, 2015, 2016, 2017, 2018, 2019, 2020, 2021, 2022]"
   ]
  },
  {
   "cell_type": "markdown",
   "id": "bf417e09",
   "metadata": {},
   "source": [
    "🚩 This first function retrieves an object generated by beautifulSoup built with the html content of a year obtained with the previous curls.\n",
    "This code is then filtered, cleaned and prepared to be able to work easily with it afterwards."
   ]
  },
  {
   "cell_type": "markdown",
   "id": "7b0b733d",
   "metadata": {},
   "source": [
    "<details>\n",
    "    <summary>💡 detail</summary>\n",
    "ℹ️ - First, I get the file corresponding to the year I'm looking for and I copy its content into a variable.\n",
    "\n",
    "    - Then, I use beautifulSoup to make an object out of it.\n",
    "\n",
    "    - I now get the code containing the prize lists which is in a javascript variable.\n",
    "\n",
    "    - Finally, I clean this variable, because it is contained in a function call and before returning this text, I decode it and create a new beautifulSoup object which corresponds this time to my real page.\n",
    "</details>"
   ]
  },
  {
   "cell_type": "code",
   "execution_count": 2,
   "id": "eb1f48b5",
   "metadata": {},
   "outputs": [],
   "source": [
    "def getYearSoup(year):\n",
    "    html_doc = open('./../datas/data_row/'+str(year)+'.txt', mode=\"r\", encoding=\"utf-8\").read()\n",
    "    soup = bs(html_doc, 'html.parser')\n",
    "    js  = soup.find_all(\"script\")\n",
    "    row_content = js[14]\n",
    "    row_content = str(row_content)\n",
    "    #I delete all the characters before the call to the declareChamp function\n",
    "    row_content = row_content[row_content.find('clWDUtil'):]\n",
    "    #I delete all characters before the beginning of the data table\n",
    "    row_content = row_content[row_content.find('['):]\n",
    "    #I delete all characters after the call to the declareChamp function\n",
    "    row_content = row_content.split('var _COL', 1)[0]\n",
    "    #I delete all characters after the end of the data table\n",
    "    row_content = row_content.rsplit('],', 1)[0]\n",
    "    #I delete the first character of the string (the array opening)\n",
    "    row_content = row_content[1:]\n",
    "    row_content_decoded = row_content.encode().decode('unicode_escape')\n",
    "    return bs(row_content_decoded)"
   ]
  },
  {
   "cell_type": "markdown",
   "id": "d3efd541",
   "metadata": {},
   "source": [
    "🚩 The purpose of this second function is to retrieve a value in the page via its id because all values are dynamically generated, each one has a logically generated id."
   ]
  },
  {
   "cell_type": "markdown",
   "id": "a823f8e0",
   "metadata": {},
   "source": [
    "<details>\n",
    "    <summary>💡 detail</summary>\n",
    "ℹ️ I use again beautifulSoup to retrieve this text which is empty if the id doesn't exist (because some values are retrievable only from a certain year)\n",
    "\n",
    "\n",
    "And before returning the value, I decode it in utf8 if it is not (I have a particular process here, because some values are encoded in windows-1252 and others are already in utf8)\n",
    "</details>"
   ]
  },
  {
   "cell_type": "code",
   "execution_count": 3,
   "id": "7edae8e1",
   "metadata": {},
   "outputs": [],
   "source": [
    "def get_value(text, id_str):\n",
    "    currentString=text.find(id=id_str).get_text()\n",
    "    try:\n",
    "        return currentString.encode(\"windows-1252\").decode('utf-8')\n",
    "    except UnicodeError:\n",
    "        return currentString"
   ]
  },
  {
   "cell_type": "markdown",
   "id": "ad443b20",
   "metadata": {},
   "source": [
    "🚩 This last function allows, for a year, to add to the dictionary a new list corresponding to the detailed record of each team."
   ]
  },
  {
   "cell_type": "markdown",
   "id": "066452df",
   "metadata": {},
   "source": [
    "<details>\n",
    "    <summary>💡 detail</summary>\n",
    "ℹ️ As I explained before, the id for each value have a logic which is a unique identifier for each value to which is added the final place of this team in the race. So I can easily build my list like this.\n",
    "</details>"
   ]
  },
  {
   "cell_type": "code",
   "execution_count": 5,
   "id": "076962ff",
   "metadata": {},
   "outputs": [],
   "source": [
    "def buildYearDataset(year):\n",
    "    yearSoup = getYearSoup(year)\n",
    "    i=1\n",
    "    row=len(dataSet)\n",
    "    target=\"zrl_1_A48\"\n",
    "    while yearSoup.find(id=target) is not None:\n",
    "        row+=1\n",
    "        dataSet[row]={}\n",
    "        dataSet[row][\"car\"] = get_value(yearSoup,\"zrl_\"+str(i)+\"_A48\")\n",
    "        dataSet[row][\"rank\"] = i\n",
    "        dataSet[row][\"brand\"] = get_value(yearSoup, \"lzzrl_\"+str(i)+\"_A16\")\n",
    "        dataSet[row][\"engine\"] = get_value(yearSoup, \"lzzrl_\"+str(i)+\"_A46\")\n",
    "        dataSet[row][\"tires_brand\"] = get_value(yearSoup, \"zrl_\"+str(i)+\"_A10\")\n",
    "        dataSet[row][\"category\"] = get_value(yearSoup, \"zrl_\"+str(i)+\"_A80\")\n",
    "        dataSet[row][\"race_year\"] = get_value(yearSoup, \"zrl_\"+str(i)+\"_A20\")\n",
    "        dataSet[row][\"try_rank\"] = get_value(yearSoup, \"zrl_\"+str(i)+\"_A50\")\n",
    "        dataSet[row][\"try_speed\"] = get_value(yearSoup, \"zrl_\"+str(i)+\"_A51\")\n",
    "        dataSet[row][\"race_rank\"] = get_value(yearSoup, \"zrl_\"+str(i)+\"_A49\")\n",
    "        dataSet[row][\"race_turn\"] = get_value(yearSoup, \"zrl_\"+str(i)+\"_A54\")\n",
    "        dataSet[row][\"race_mean\"] = get_value(yearSoup, \"zrl_\"+str(i)+\"_A82\")\n",
    "        dataSet[row][\"race_best_turn\"] = get_value(yearSoup, \"zrl_\"+str(i)+\"_A56\")\n",
    "        dataSet[row][\"race_max_speed\"] = get_value(yearSoup, \"zrl_\"+str(i)+\"_A8\")\n",
    "        dataSet[row][\"pilot_1\"] = get_value(yearSoup, \"zrl_\"+str(i)+\"_A30\")\n",
    "        dataSet[row][\"pilot_2\"] = get_value(yearSoup, \"zrl_\"+str(i)+\"_A31\")\n",
    "        dataSet[row][\"pilot_3\"] = get_value(yearSoup, \"zrl_\"+str(i)+\"_A32\")\n",
    "        i+=1\n",
    "        target=\"zrl_\"+str(i)+\"_A48\""
   ]
  },
  {
   "cell_type": "markdown",
   "id": "d0d85b68",
   "metadata": {},
   "source": [
    "🚩 And finally, this loop calls the previous function for each available year to generate the final dataset."
   ]
  },
  {
   "cell_type": "markdown",
   "id": "7a762eb7",
   "metadata": {},
   "source": [
    "<details>\n",
    "    <summary>💡 detail</summary>\n",
    "ℹ️ This operation is particularly long given the amount of work to be done (it takes between 45 min and 1 h to finish).\n",
    "This is obviously very long, it must be highly optimized, but since it is supposed to be executed only once it is not a big deal.\n",
    "</details>"
   ]
  },
  {
   "cell_type": "code",
   "execution_count": 7,
   "id": "32a4f4fa",
   "metadata": {},
   "outputs": [],
   "source": [
    "for year in yearsKeys:\n",
    "    buildYearDataset(year)"
   ]
  },
  {
   "cell_type": "markdown",
   "id": "8bfc8fcb",
   "metadata": {},
   "source": [
    "🚩 Finally, I use pandas to turn this dictionary into a dataframe.\n",
    "Then I transpose it, because I currently have my columns as identifiers.\n",
    "And finally, I convert this dataframe to csv"
   ]
  },
  {
   "cell_type": "code",
   "execution_count": 11,
   "id": "ff38dec0",
   "metadata": {},
   "outputs": [],
   "source": [
    "df = pd.DataFrame.from_dict(dataSet)\n",
    "df = df.T\n",
    "df.to_csv(\"./../datas/dataset_clean/lemans24.csv\", index=False)"
   ]
  }
 ],
 "metadata": {
  "kernelspec": {
   "display_name": "Python 3 (ipykernel)",
   "language": "python",
   "name": "python3"
  },
  "language_info": {
   "codemirror_mode": {
    "name": "ipython",
    "version": 3
   },
   "file_extension": ".py",
   "mimetype": "text/x-python",
   "name": "python",
   "nbconvert_exporter": "python",
   "pygments_lexer": "ipython3",
   "version": "3.10.6"
  }
 },
 "nbformat": 4,
 "nbformat_minor": 5
}
