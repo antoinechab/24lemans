{
 "cells": [
  {
   "cell_type": "code",
   "execution_count": 1,
   "id": "9ef49ef5",
   "metadata": {},
   "outputs": [],
   "source": [
    "from bs4 import BeautifulSoup as bs"
   ]
  },
  {
   "cell_type": "code",
   "execution_count": 2,
   "id": "eb1f48b5",
   "metadata": {},
   "outputs": [],
   "source": [
    "def getYearSoup(year):\n",
    "    html_doc = open('./../datas/data_row/'+str(year)+'.txt', mode=\"r\", encoding=\"utf-8\").read()\n",
    "    soup = bs(html_doc, 'html.parser')\n",
    "    js  = soup.find_all(\"script\")\n",
    "    row_content = js[14]\n",
    "    row_content = str(row_content)\n",
    "    #je supprime tous les caractère avant l'appel à la fonction declareChamp\n",
    "    row_content = row_content[row_content.find('clWDUtil'):]\n",
    "    #je supprime tous les caractère avant le début du tableau de données\n",
    "    row_content = row_content[row_content.find('['):]\n",
    "    #je supprime tous les caractère après l'appel à la fonction declareChamp\n",
    "    row_content = row_content.split('var _COL', 1)[0]\n",
    "    #je supprime tous les caractère après la fin du tableau de données\n",
    "    row_content = row_content.rsplit('],', 1)[0]\n",
    "    #je supprime le premier charactère de la string (l'ouverture de tableau)\n",
    "    row_content = row_content[1:]\n",
    "    row_content_decoded = row_content.encode().decode('unicode_escape')\n",
    "    return bs(row_content_decoded)"
   ]
  },
  {
   "cell_type": "code",
   "execution_count": 3,
   "id": "7edae8e1",
   "metadata": {},
   "outputs": [],
   "source": [
    "def get_value(text, id_str):\n",
    "    currentString=text.find(id=id_str).get_text()\n",
    "    try:\n",
    "        return currentString.encode(\"windows-1252\").decode('utf-8')\n",
    "    except UnicodeError:\n",
    "        return currentString"
   ]
  },
  {
   "cell_type": "code",
   "execution_count": 4,
   "id": "17e9fb32",
   "metadata": {},
   "outputs": [],
   "source": [
    "dataSet = {}"
   ]
  },
  {
   "cell_type": "code",
   "execution_count": 5,
   "id": "076962ff",
   "metadata": {},
   "outputs": [],
   "source": [
    "def buildYearDataset(year):\n",
    "    yearSoup = getYearSoup(year)\n",
    "    i=1\n",
    "    row=len(dataSet)\n",
    "    target=\"zrl_1_A48\"\n",
    "    while yearSoup.find(id=target) is not None:\n",
    "        row+=1\n",
    "        dataSet[row]={}\n",
    "        dataSet[row][\"car\"] = get_value(yearSoup,\"zrl_\"+str(i)+\"_A48\")\n",
    "        dataSet[row][\"rank\"] = i\n",
    "        dataSet[row][\"brand\"] = get_value(yearSoup, \"lzzrl_\"+str(i)+\"_A16\")\n",
    "        dataSet[row][\"engine\"] = get_value(yearSoup, \"lzzrl_\"+str(i)+\"_A46\")\n",
    "        dataSet[row][\"tires_brand\"] = get_value(yearSoup, \"zrl_\"+str(i)+\"_A10\")\n",
    "        dataSet[row][\"category\"] = get_value(yearSoup, \"zrl_\"+str(i)+\"_A80\")\n",
    "        dataSet[row][\"race_year\"] = get_value(yearSoup, \"zrl_\"+str(i)+\"_A20\")\n",
    "        dataSet[row][\"try_rank\"] = get_value(yearSoup, \"zrl_\"+str(i)+\"_A50\")\n",
    "        dataSet[row][\"try_speed\"] = get_value(yearSoup, \"zrl_\"+str(i)+\"_A51\")\n",
    "        dataSet[row][\"race_rank\"] = get_value(yearSoup, \"zrl_\"+str(i)+\"_A49\")\n",
    "        dataSet[row][\"race_turn\"] = get_value(yearSoup, \"zrl_\"+str(i)+\"_A54\")\n",
    "        dataSet[row][\"race_mean\"] = get_value(yearSoup, \"zrl_\"+str(i)+\"_A82\")\n",
    "        dataSet[row][\"race_best_turn\"] = get_value(yearSoup, \"zrl_\"+str(i)+\"_A56\")\n",
    "        dataSet[row][\"race_max_speed\"] = get_value(yearSoup, \"zrl_\"+str(i)+\"_A8\")\n",
    "        dataSet[row][\"pilot_1\"] = get_value(yearSoup, \"zrl_\"+str(i)+\"_A30\")\n",
    "        dataSet[row][\"pilot_2\"] = get_value(yearSoup, \"zrl_\"+str(i)+\"_A31\")\n",
    "        dataSet[row][\"pilot_3\"] = get_value(yearSoup, \"zrl_\"+str(i)+\"_A32\")\n",
    "        i+=1\n",
    "        target=\"zrl_\"+str(i)+\"_A48\""
   ]
  },
  {
   "cell_type": "code",
   "execution_count": 6,
   "id": "0abd56e9",
   "metadata": {},
   "outputs": [],
   "source": [
    "yearsKeys=[1923, 1924, 1925, 1926, 1927, 1928, 1929, 1930, 1931, 1932, 1933, 1934, 1935, 1937, 1938, 1939, 1949, 1950, 1951, 1952, 1953, 1954, 1955, 1956, 1957, 1958, 1959, 1960, 1961, 1962, 1963, 1964, 1965, 1966, 1967, 1968, 1969, 1970, 1971, 1972, 1973, 1974, 1975, 1976, 1977, 1978, 1979, 1980, 1981, 1982, 1983, 1984, 1985, 1986, 1987, 1988, 1989, 1990, 1991, 1992, 1993, 1994, 1995, 1996, 1997, 1998, 1999, 2000, 2001, 2002, 2003, 2004, 2005, 2006, 2007, 2008, 2009, 2010, 2011, 2012, 2013, 2014, 2015, 2016, 2017, 2018, 2019, 2020, 2021, 2022]"
   ]
  },
  {
   "cell_type": "code",
   "execution_count": null,
   "id": "32a4f4fa",
   "metadata": {},
   "outputs": [],
   "source": [
    "for year in yearsKeys:\n",
    "    buildYearDataset(year)"
   ]
  },
  {
   "cell_type": "code",
   "execution_count": null,
   "id": "7a097e80",
   "metadata": {},
   "outputs": [],
   "source": [
    "dataSet"
   ]
  },
  {
   "cell_type": "code",
   "execution_count": null,
   "id": "7523a544",
   "metadata": {},
   "outputs": [],
   "source": []
  }
 ],
 "metadata": {
  "kernelspec": {
   "display_name": "Python 3 (ipykernel)",
   "language": "python",
   "name": "python3"
  },
  "language_info": {
   "codemirror_mode": {
    "name": "ipython",
    "version": 3
   },
   "file_extension": ".py",
   "mimetype": "text/x-python",
   "name": "python",
   "nbconvert_exporter": "python",
   "pygments_lexer": "ipython3",
   "version": "3.10.6"
  }
 },
 "nbformat": 4,
 "nbformat_minor": 5
}
